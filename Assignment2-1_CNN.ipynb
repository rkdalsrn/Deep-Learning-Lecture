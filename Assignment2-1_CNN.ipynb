{
 "cells": [
  {
   "cell_type": "markdown",
   "metadata": {
    "colab_type": "text",
    "id": "t6j5WcA3GbSk"
   },
   "source": [
    "# M2177.003100 Deep Learning Assignment #2<br> Part 1. Training Convolutional Neural Networks (Pytorch)"
   ]
  },
  {
   "cell_type": "markdown",
   "metadata": {},
   "source": [
    "Copyright (C) Data Science & AI Laboratory, Seoul National University. This material is for educational uses only. Some contents are based on the material provided by other paper/book authors and may be copyrighted by them. Written by Jooyoung Choi and Hyeongrok Han 2020"
   ]
  },
  {
   "cell_type": "markdown",
   "metadata": {},
   "source": [
    "**For understanding of this work, please carefully look at given PDF file.**\n",
    "\n",
    "Now, you're going to leave behind your implementations and instead migrate to one of popular deep learning frameworks, **PyTorch**. <br>\n",
    "In this notebook, you will learn how to train convolutional neural networks (CNNs) for classifying images in the CIFAR-10 dataset. <br>\n",
    "There are **3 sections**, and in each section, you need to follow the instructions to complete the skeleton codes and explain them.\n",
    "\n",
    "**Note**: certain details are missing or ambiguous on purpose, in order to test your knowledge on the related materials. However, if you really feel that something essential is missing and cannot proceed to the next step, then contact the teaching staff with clear description of your problem.\n",
    "\n",
    "### Submitting your work:\n",
    "<font color=red>**DO NOT clear the final outputs**</font> so that TAs can grade both your code and results. \n",
    "\n",
    "### Some helpful tutorials and references for assignment #2-1:\n",
    "- [1] Pytorch official documentation. [[link]](https://pytorch.org/docs/stable/index.html)\n",
    "- [2] Stanford CS231n lectures. [[link]](http://cs231n.stanford.edu/)\n",
    "- [3] Szegedy et al., \"Going deeper with convolutions\", CVPR 2015. [[pdf]](http://www.cv-foundation.org/openaccess/content_cvpr_2015/papers/Szegedy_Going_Deeper_With_2015_CVPR_paper.pdf)"
   ]
  },
  {
   "cell_type": "markdown",
   "metadata": {},
   "source": [
    "## 1. Load datasets\n",
    "The CIFAR-10 dataset will be downloaded automatically if it is not located in the *data* directory. <br>"
   ]
  },
  {
   "cell_type": "code",
   "execution_count": 10,
   "metadata": {},
   "outputs": [],
   "source": [
    "import torch\n",
    "import torchvision\n",
    "import torchvision.transforms as transforms\n",
    "import matplotlib.pyplot as plt\n",
    "import numpy as np\n",
    "import torch.nn as nn\n",
    "import torch.nn.functional as F\n",
    "import torch.optim as optim"
   ]
  },
  {
   "cell_type": "code",
   "execution_count": 11,
   "metadata": {},
   "outputs": [
    {
     "name": "stdout",
     "output_type": "stream",
     "text": [
      "Files already downloaded and verified\n",
      "Files already downloaded and verified\n"
     ]
    }
   ],
   "source": [
    "transform = transforms.Compose(\n",
    "    [transforms.ToTensor(),\n",
    "     transforms.Normalize((0.5, 0.5, 0.5), (0.5, 0.5, 0.5))])\n",
    "\n",
    "trainset = torchvision.datasets.CIFAR10(root='./data', train=True,\n",
    "                                        download=True, transform=transform)\n",
    "trainloader = torch.utils.data.DataLoader(trainset, batch_size=8,\n",
    "                                          shuffle=True, num_workers=2)\n",
    "\n",
    "testset = torchvision.datasets.CIFAR10(root='./data', train=False,\n",
    "                                       download=True, transform=transform)\n",
    "testloader = torch.utils.data.DataLoader(testset, batch_size=8,\n",
    "                                         shuffle=False, num_workers=2)\n",
    "\n",
    "classes = ('plane', 'car', 'bird', 'cat',\n",
    "           'deer', 'dog', 'frog', 'horse', 'ship', 'truck')"
   ]
  },
  {
   "cell_type": "code",
   "execution_count": 12,
   "metadata": {},
   "outputs": [],
   "source": [
    "# function to show an image\n",
    "def imshow(img):\n",
    "    img = img / 2 + 0.5     # unnormalize\n",
    "    npimg = img.numpy()\n",
    "    print(np.transpose(npimg, (1, 2, 0)).shape)\n",
    "    plt.imshow(np.transpose(npimg, (1, 2, 0)))\n",
    "    plt.show()"
   ]
  },
  {
   "cell_type": "code",
   "execution_count": 13,
   "metadata": {},
   "outputs": [
    {
     "name": "stdout",
     "output_type": "stream",
     "text": [
      "(36, 274, 3)\n"
     ]
    },
    {
     "data": {
      "image/png": "[encoded data removed]",
      "text/plain": [
       "<Figure size 432x288 with 1 Axes>"
      ]
     },
     "metadata": {
      "needs_background": "light"
     },
     "output_type": "display_data"
    },
    {
     "name": "stdout",
     "output_type": "stream",
     "text": [
      "plane   dog horse truck\n",
      "torch.Size([3, 32, 32])\n"
     ]
    }
   ],
   "source": [
    "# get some random training images\n",
    "dataiter = iter(trainloader)\n",
    "images, labels = dataiter.next()\n",
    "\n",
    "# show images\n",
    "imshow(torchvision.utils.make_grid(images))\n",
    "# print labels\n",
    "print(' '.join('%5s' % classes[labels[j]] for j in range(4)))\n",
    "# print size of single image\n",
    "print(images[1].shape)"
   ]
  },
  {
   "cell_type": "markdown",
   "metadata": {},
   "source": [
    "## 2. Training a small CNN model\n",
    "\n",
    "#### CNN architecture in order:\n",
    "* 7x7 Convolutional layer with 8 filters, strides of 1, and ReLU activation\n",
    "* 2x2 Max pooling layer with strides of 2\n",
    "* 4x4 Convolutional layer with 16 filters, strides of 1, and ReLU activation\n",
    "* 2x2 Max pooling layer with strides of 2\n",
    "* Fully connected layer with 100 output units and ReLU activation\n",
    "* Fully connected layer with 80 output units and ReLU activation\n",
    "* Fully connected layer with 10 output units \n",
    "* You can use any padding option.\n",
    "\n",
    "#### Training setup:\n",
    "* Loss function: Softmax cross entropy\n",
    "* Optimizer: Gradient descent with 0.001 learning rate\n",
    "* Batch size: 8\n",
    "* Training epoch: 2"
   ]
  },
  {
   "cell_type": "code",
   "execution_count": 14,
   "metadata": {},
   "outputs": [],
   "source": [
    "# Define a CNN model\n",
    "class Net(nn.Module):\n",
    "    def __init__(self):\n",
    "        super(Net, self).__init__()\n",
    "        ##############################################################################\n",
    "        #                          IMPLEMENT YOUR CODE                               #\n",
    "        ##############################################################################\n",
    "        \n",
    "        self.con1 = nn.Conv2d(3, 8, 7, stride=1)\n",
    "        self.max_pool = nn.MaxPool2d(2, 2)\n",
    "        self.con2 = nn.Conv2d(8, 16, 4, stride=1)\n",
    "        self.fc1 = nn.Linear(16 * 5 * 5, 100)\n",
    "        self.fc2 = nn.Linear(100, 80)\n",
    "        self.fc3 = nn.Linear(80, 10)\n",
    "        \n",
    "        ##############################################################################\n",
    "        #                          END OF YOUR CODE                                  #\n",
    "        ##############################################################################\n",
    "\n",
    "    def forward(self, x):\n",
    "        ##############################################################################\n",
    "        #                          IMPLEMENT YOUR CODE                               #\n",
    "        ##############################################################################\n",
    "        \n",
    "        x = F.relu(self.con1(x))\n",
    "        x = self.max_pool(x)\n",
    "        x = F.relu(self.con2(x))\n",
    "        x = self.max_pool(x)\n",
    "        x = x.view(-1, 16 * 5 * 5)\n",
    "        x = self.fc1(x)\n",
    "        x = F.relu(x)\n",
    "        x = self.fc2(x)\n",
    "        x = F.relu(x)\n",
    "        x = self.fc3(x)\n",
    "        \n",
    "        ##############################################################################\n",
    "        #                          END OF YOUR CODE                                  #\n",
    "        ##############################################################################\n",
    "        return x\n"
   ]
  },
  {
   "cell_type": "code",
   "execution_count": 15,
   "metadata": {},
   "outputs": [],
   "source": [
    "# Function to train the network\n",
    "\n",
    "def train(net, trainloader, max_epoch, crit, opt, model_path='./cifar_net.pth'):\n",
    "\n",
    "    for epoch in range(max_epoch):  # loop over the dataset multiple times\n",
    "\n",
    "        running_loss = 0.0\n",
    "        for i, data in enumerate(trainloader, 0):\n",
    "            # get the inputs; data is a list of [inputs, labels]\n",
    "            inputs, labels = data\n",
    "        \n",
    "            # Training on GPU\n",
    "            inputs = inputs.to(device)\n",
    "            labels = labels.to(device)\n",
    "\n",
    "            # zero the parameter gradients\n",
    "            optimizer.zero_grad()\n",
    "\n",
    "            # forward + backward + optimize\n",
    "            outputs = net(inputs)\n",
    "            loss = crit(outputs, labels)\n",
    "            loss.backward()\n",
    "            opt.step()\n",
    "\n",
    "            # print statistics\n",
    "            running_loss += loss.item()\n",
    "            if i % 2000 == 1999:    # print every 2000 mini-batches\n",
    "                print('[%d, %5d] loss: %.3f' %\n",
    "                      (epoch + 1, i + 1, running_loss / 2000))\n",
    "                running_loss = 0.0\n",
    "\n",
    "    print('Finished Training')\n",
    "    torch.save(net.state_dict(), model_path)\n",
    "    print('Saved Trained Model')"
   ]
  },
  {
   "cell_type": "code",
   "execution_count": 16,
   "metadata": {},
   "outputs": [
    {
     "name": "stdout",
     "output_type": "stream",
     "text": [
      "[1,  2000] loss: 2.160\n",
      "[1,  4000] loss: 1.768\n",
      "[1,  6000] loss: 1.596\n",
      "[2,  2000] loss: 1.491\n",
      "[2,  4000] loss: 1.433\n",
      "[2,  6000] loss: 1.370\n",
      "Finished Training\n",
      "Saved Trained Model\n"
     ]
    }
   ],
   "source": [
    "PATH = './cifar_net.pth'\n",
    "epoch = 2\n",
    "\n",
    "# initialize model\n",
    "net = Net()\n",
    "\n",
    "# Training on GPU\n",
    "device = torch.device(\"cuda:0\" if torch.cuda.is_available() else \"cpu\")\n",
    "net = net.to(device)\n",
    "\n",
    "# Define a Loss function and optimizer\n",
    "criterion = nn.CrossEntropyLoss()\n",
    "optimizer = optim.SGD(net.parameters(), lr=0.001, momentum=0.9)\n",
    "\n",
    "train(net, trainloader, epoch, criterion, optimizer, PATH)"
   ]
  },
  {
   "cell_type": "code",
   "execution_count": 18,
   "metadata": {},
   "outputs": [],
   "source": [
    "# function to calculate accuracy\n",
    "def print_accuracy(net, dataloader):\n",
    "    correct = 0\n",
    "    total = 0\n",
    "\n",
    "    with torch.no_grad():\n",
    "        for data in dataloader:\n",
    "            images, labels = data\n",
    "            # Inference on GPU\n",
    "            images = images.to(device)\n",
    "            labels = labels.to(device)\n",
    "        \n",
    "            outputs = net(images)\n",
    "            _, predicted = torch.max(outputs.data, 1)\n",
    "            total += labels.size(0)\n",
    "            correct += (predicted == labels).sum().item()\n",
    "        \n",
    "    print('Accuracy of the network on the %d test images: %d %%' % (total,\n",
    "        100 * correct / total))"
   ]
  },
  {
   "cell_type": "code",
   "execution_count": 19,
   "metadata": {},
   "outputs": [
    {
     "name": "stdout",
     "output_type": "stream",
     "text": [
      "Accuracy of the network on the 10000 test images: 51 %\n"
     ]
    }
   ],
   "source": [
    "# load trained model then test\n",
    "net.load_state_dict(torch.load(PATH))\n",
    "print_accuracy(net, testloader)"
   ]
  },
  {
   "cell_type": "markdown",
   "metadata": {},
   "source": [
    "## <a name=\"3-1\"></a>3-1. Design an Inception module\n",
    "\n",
    "In this section, you will implement a little more complex CNN model with an `Inception module`. <br>\n",
    "\n",
    "![Inception_module](Inception.png)\n",
    "\n",
    "Using the code provided as guidance, <br>\n",
    "Define an `inception module`, which is the building block of **Inception model (a.k.a GoogLeNet)**, the winner of ILSVRC14. <br>\n",
    "\n",
    "\n",
    "#### CNN architecture:\n",
    "* CNN model consists with stem layer, inception module, and fully connected layer\n",
    "* Stem layer with\n",
    "    * conv-pooling-conv-pooling\n",
    "    * 8 filters for the 9x9 convolutions\n",
    "    * 3x3 max pooling\n",
    "* `Inception module` with \n",
    "    * 3(or 4) main convolutions (blue blocks in the Figure(a))\n",
    "    * 3 dimensionality reduction convolutions (yellow blocks in the Figure(a))\n",
    "    * 3x3 max pooling block (red blocks in the Figure(a))\n",
    "    * Batch Nomalization and ReLU activation after all conv layer\n",
    "* Fully connected layer with 10 output units and linear activation\n",
    "* Choose the proper padding option on your own.\n"
   ]
  },
  {
   "cell_type": "code",
   "execution_count": 20,
   "metadata": {},
   "outputs": [],
   "source": [
    "'''\n",
    "About parameter\n",
    "in_planes : # of input channel\n",
    "n1xn1 : # of output channel for first branch\n",
    "n3xn3_blue : # of output channel for second branch's 1x1 conv layer\n",
    "n3xn3 : # of output channel for second branch\n",
    "n5xn5_blue : # of output channel for third branch's 1x1 conv layer\n",
    "n5xn5 : # of output channel for third branch\n",
    "pool_planes : # of output channel for fourth branch\n",
    "\n",
    "'''\n",
    "class Inception(nn.Module):\n",
    "    def __init__(self, in_planes, n1x1, n3x3_blue, n3x3, n5x5_blue, n5x5, pool_planes):\n",
    "        super(Inception, self).__init__()\n",
    "        ##############################################################################\n",
    "        #                          IMPLEMENT YOUR CODE                               #\n",
    "        ##############################################################################\n",
    "        # 1x1 conv branch\n",
    "        self.b1 = nn.Sequential(\n",
    "            nn.Conv2d(in_planes, n1x1, kernel_size=1),\n",
    "            nn.BatchNorm2d(n1x1),\n",
    "            nn.ReLU(True),\n",
    "        )\n",
    "        \n",
    "        # 1x1 conv -> 3x3 conv branch\n",
    "        self.b2 = nn.Sequential(\n",
    "            nn.Conv2d(in_planes, n3x3_blue, kernel_size=1),\n",
    "            nn.BatchNorm2d(n3x3_blue),\n",
    "            nn.ReLU(True),\n",
    "            nn.Conv2d(n3x3_blue, n3x3, kernel_size=3, padding=1),\n",
    "            nn.BatchNorm2d(n3x3),\n",
    "            nn.ReLU(True),\n",
    "        )\n",
    "\n",
    "        # 1x1 conv -> 5x5 conv branch\n",
    "        self.b3 = nn.Sequential(\n",
    "            nn.Conv2d(in_planes, n5x5_blue, kernel_size=1),\n",
    "            nn.BatchNorm2d(n5x5_blue),\n",
    "            nn.ReLU(True),\n",
    "            nn.Conv2d(n5x5_blue, n5x5, kernel_size=3, padding=1),\n",
    "            nn.BatchNorm2d(n5x5),\n",
    "            nn.ReLU(True),\n",
    "            nn.Conv2d(n5x5, n5x5, kernel_size=3, padding=1),\n",
    "            nn.BatchNorm2d(n5x5),\n",
    "            nn.ReLU(True),\n",
    "        )\n",
    "\n",
    "        # 3x3 pool -> 1x1 conv branch\n",
    "        self.b4 = nn.Sequential(\n",
    "            nn.MaxPool2d(3, stride=1, padding=1),\n",
    "            nn.Conv2d(in_planes, pool_planes, kernel_size=1),\n",
    "            nn.BatchNorm2d(pool_planes),\n",
    "            nn.ReLU(True),\n",
    "        )\n",
    "        \n",
    "        ##############################################################################\n",
    "        #                          END OF YOUR CODE                                  #\n",
    "        ##############################################################################\n",
    "    def forward(self, x):\n",
    "        y1 = self.b1(x)\n",
    "        y2 = self.b2(x)\n",
    "        y3 = self.b3(x)\n",
    "        y4 = self.b4(x)\n",
    "        return torch.cat([y1,y2,y3,y4], 1)"
   ]
  },
  {
   "cell_type": "markdown",
   "metadata": {},
   "source": [
    "## <a name=\"3-2\"></a>3-2. Design a better model on CIFAR-10\n",
    "\n",
    "Now it's your job to experiment with CNNs to train a model that achieves **<font color=red>>= 70% accuracy on the validation set</font>** of CIFAR-10. <br> You can reuse the implemented functions from above.\n",
    "\n",
    "### Things you can try to change:\n",
    "- Filter size\n",
    "- Number of filters\n",
    "- Pooling vs Strided Convolution\n",
    "- Network architectures\n",
    "- Optimizers\n",
    "- Activation functions\n",
    "- Regularizations\n",
    "- Model ensembles\n",
    "- Data augmentation\n",
    "- learning rate scheduler"
   ]
  },
  {
   "cell_type": "code",
   "execution_count": 21,
   "metadata": {},
   "outputs": [],
   "source": [
    "# Define a CNN model\n",
    "class BetterNet(nn.Module):\n",
    "    def __init__(self):\n",
    "        super(BetterNet, self).__init__()\n",
    "        ##############################################################################\n",
    "        #                          IMPLEMENT YOUR CODE                               #\n",
    "        ##############################################################################\n",
    "        \n",
    "        self.pre = nn.Sequential(\n",
    "            nn.Conv2d(3, 192, kernel_size=3, padding=1),\n",
    "            nn.BatchNorm2d(192),\n",
    "            nn.ReLU(True),\n",
    "        )\n",
    "        self.a_3 = Inception(192,  64,  96, 128, 16, 32, 32)\n",
    "        self.b_3 = Inception(256, 128, 128, 192, 32, 96, 64)\n",
    "        self.maxpool = nn.MaxPool2d(3, stride=2, padding=1)\n",
    "        self.a_4 = Inception(480, 192,  96, 208, 16,  48,  64)\n",
    "        self.b_4 = Inception(512, 160, 112, 224, 24,  64,  64)\n",
    "        self.c_4 = Inception(512, 128, 128, 256, 24,  64,  64)\n",
    "        self.d_4 = Inception(512, 112, 144, 288, 32,  64,  64)\n",
    "        self.e_4 = Inception(528, 256, 160, 320, 32, 128, 128)\n",
    "        self.a_5 = Inception(832, 256, 160, 320, 32, 128, 128)\n",
    "        self.b_5 = Inception(832, 384, 192, 384, 48, 128, 128)\n",
    "        self.average_pool = nn.AvgPool2d(8, stride=1)\n",
    "        self.linear = nn.Linear(1024, 10)\n",
    "        \n",
    "        ##############################################################################\n",
    "        #                          END OF YOUR CODE                                  #\n",
    "        ##############################################################################\n",
    "\n",
    "    def forward(self, x):\n",
    "        ##############################################################################\n",
    "        #                          IMPLEMENT YOUR CODE                               #\n",
    "        ##############################################################################\n",
    "        \n",
    "        out = self.b_3(self.a_3(self.pre(x)))\n",
    "        out = self.maxpool(out)\n",
    "        out = self.e_4(self.d_4(self.c_4(self.b_4(self.a_4(out)))))\n",
    "        out = self.maxpool(out)\n",
    "        out = self.b_5(self.a_5(out))\n",
    "        out = self.average_pool(out)\n",
    "        out = out.view(out.size(0), -1)\n",
    "        out = self.linear(out)\n",
    "        \n",
    "        ##############################################################################\n",
    "        #                          END OF YOUR CODE                                  #\n",
    "        ##############################################################################\n",
    "        return out\n"
   ]
  },
  {
   "cell_type": "code",
   "execution_count": 22,
   "metadata": {},
   "outputs": [
    {
     "name": "stdout",
     "output_type": "stream",
     "text": [
      "[1,  2000] loss: 1.627\n",
      "[1,  4000] loss: 1.210\n",
      "[1,  6000] loss: 0.994\n",
      "[2,  2000] loss: 0.834\n",
      "[2,  4000] loss: 0.755\n",
      "[2,  6000] loss: 0.704\n",
      "[3,  2000] loss: 0.592\n",
      "[3,  4000] loss: 0.575\n",
      "[3,  6000] loss: 0.554\n",
      "[4,  2000] loss: 0.455\n",
      "[4,  4000] loss: 0.463\n",
      "[4,  6000] loss: 0.439\n",
      "[5,  2000] loss: 0.353\n",
      "[5,  4000] loss: 0.373\n",
      "[5,  6000] loss: 0.382\n",
      "[6,  2000] loss: 0.291\n",
      "[6,  4000] loss: 0.300\n",
      "[6,  6000] loss: 0.319\n",
      "[7,  2000] loss: 0.221\n",
      "[7,  4000] loss: 0.252\n",
      "[7,  6000] loss: 0.259\n",
      "[8,  2000] loss: 0.174\n",
      "[8,  4000] loss: 0.209\n",
      "[8,  6000] loss: 0.220\n",
      "[9,  2000] loss: 0.157\n",
      "[9,  4000] loss: 0.172\n",
      "[9,  6000] loss: 0.177\n",
      "[10,  2000] loss: 0.114\n",
      "[10,  4000] loss: 0.134\n",
      "[10,  6000] loss: 0.152\n",
      "Finished Training\n",
      "Saved Trained Model\n",
      "Accuracy of the network on the 10000 test images: 85 %\n"
     ]
    }
   ],
   "source": [
    "# initialize model\n",
    "betternet = BetterNet()\n",
    "betternet = betternet.to(device)\n",
    "\n",
    "# Define a Loss function and optimizer\n",
    "criterion = nn.CrossEntropyLoss()\n",
    "optimizer = optim.SGD(betternet.parameters(), lr=0.001, momentum=0.9)\n",
    "\n",
    "PATH = './better_net.pth'\n",
    "# Train\n",
    "train(betternet, trainloader, 10, criterion, optimizer, PATH)\n",
    "# Test\n",
    "betternet.load_state_dict(torch.load(PATH))\n",
    "print_accuracy(betternet, testloader)"
   ]
  },
  {
   "cell_type": "markdown",
   "metadata": {},
   "source": [
    "### Describe what you did here\n",
    "In this cell you should also write an explanation of what you did, any additional features that you implemented, and any visualizations or graphs that you make in the process of training and evaluating your network.\n",
    "\n",
    "You can write in Korean"
   ]
  },
  {
   "cell_type": "markdown",
   "metadata": {},
   "source": [
    "_Tell us here_\n",
    "\n",
    "Inception module \n",
    "1x1 convolution 1x1 convolution - 3x3 convolution 1x1 convolution - 5x5 convolution 3x3 MaxPooling - 1x1 convolution Channel-wise concat\n",
    "\n",
    "Inception module - (27,27,192) -> (28,28,256) Inception module - (27,27,256) -> (28,28,480) maxpool - (28,28,480) -> (14,14,480) / kernel size = (3,3) / stride = 2 Inception module - (14,14,256) -> (14,14,512) Inception module - (14,14,512) -> (14,14,512) Inception module - (14,14,512) -> (14,14,512) Inception module - (14,14,512) -> (14,14,528) Inception module - (14,14,528) -> (14,14,832) maxpool - (14,14,832) -> (7,7,832) / kernel size = (3,3) / stride = 2 Inception module - (7,7,832) -> (7,7,832) Inception module - (7,7,832) -> (7,7,1024) Average pool - (7,7,1024) -> (1,1,1024) / kernel size = (7,7) / stride = 1\n",
    "stem region - Inception 모듈이 비효과적이기 때문에 stem region 에는 Inception 모듈이 사용되지 않았습니다. \n",
    "Conv2d() and Relu. 2 Inception module, 1 maxpool, 5 Inception module, 1 maxpool, 2 Inception module, Average pool\n",
    "\n",
    "Accuracy of the network on the 10000 test images: 85 %\n"
   ]
  },
  {
   "cell_type": "markdown",
   "metadata": {},
   "source": []
  }
 ],
 "metadata": {
  "anaconda-cloud": {},
  "colab": {
   "collapsed_sections": [],
   "name": "AS1-Logistic_Regression.ipynb",
   "provenance": [
    {
     "file_id": "1br9I49jKldloi3aOJ6HPGtq3RLU9h5ft",
     "timestamp": 1583728216996
    }
   ]
  },
  "kernelspec": {
   "display_name": "Python 3",
   "language": "python",
   "name": "python3"
  },
  "language_info": {
   "codemirror_mode": {
    "name": "ipython",
    "version": 3
   },
   "file_extension": ".py",
   "mimetype": "text/x-python",
   "name": "python",
   "nbconvert_exporter": "python",
   "pygments_lexer": "ipython3",
   "version": "3.7.3"
  }
 },
 "nbformat": 4,
 "nbformat_minor": 4
}
